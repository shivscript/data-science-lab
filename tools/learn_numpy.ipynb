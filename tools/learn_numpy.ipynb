{
 "cells": [
  {
   "cell_type": "markdown",
   "metadata": {},
   "source": [
    "## NumPy Walkthrough"
   ]
  },
  {
   "cell_type": "code",
   "execution_count": 4,
   "metadata": {},
   "outputs": [],
   "source": [
    "import numpy as np"
   ]
  },
  {
   "cell_type": "markdown",
   "metadata": {},
   "source": [
    "### Random Number Generation"
   ]
  },
  {
   "cell_type": "code",
   "execution_count": 8,
   "metadata": {},
   "outputs": [
    {
     "data": {
      "text/plain": [
       "array([0.71469889, 0.2170025 , 0.46236552, 0.59247711, 0.4000834 ])"
      ]
     },
     "execution_count": 8,
     "metadata": {},
     "output_type": "execute_result"
    }
   ],
   "source": [
    "np.random.rand(5)  # Generates 5 random numbers between 0 and 1"
   ]
  },
  {
   "cell_type": "code",
   "execution_count": 10,
   "metadata": {},
   "outputs": [
    {
     "data": {
      "text/plain": [
       "array([ 0.16468731, -1.02939108, -1.17879562,  1.36463587,  0.37572301])"
      ]
     },
     "execution_count": 10,
     "metadata": {},
     "output_type": "execute_result"
    }
   ],
   "source": [
    "np.random.randn(5)  # Generates 5 random numbers from a normal distribution"
   ]
  },
  {
   "cell_type": "markdown",
   "metadata": {},
   "source": [
    "### Discrete Distributions"
   ]
  },
  {
   "cell_type": "code",
   "execution_count": 11,
   "metadata": {},
   "outputs": [
    {
     "data": {
      "text/plain": [
       "array([7, 9, 5, 1, 6])"
      ]
     },
     "execution_count": 11,
     "metadata": {},
     "output_type": "execute_result"
    }
   ],
   "source": [
    "np.random.randint(1, 10, size=5)  # Generates 5 random integers between 1 and 10"
   ]
  },
  {
   "cell_type": "code",
   "execution_count": 14,
   "metadata": {},
   "outputs": [
    {
     "data": {
      "text/plain": [
       "array([1, 5, 5])"
      ]
     },
     "execution_count": 14,
     "metadata": {},
     "output_type": "execute_result"
    }
   ],
   "source": [
    "np.random.choice([1, 2, 3, 4, 5], size=3)  # Randomly selects 3 elements from the list"
   ]
  },
  {
   "cell_type": "markdown",
   "metadata": {},
   "source": [
    "### Continuous Distributions"
   ]
  },
  {
   "cell_type": "code",
   "execution_count": 15,
   "metadata": {},
   "outputs": [
    {
     "data": {
      "text/plain": [
       "array([0.30232837, 0.29563537, 0.69434091, 0.1612895 , 0.87422789])"
      ]
     },
     "execution_count": 15,
     "metadata": {},
     "output_type": "execute_result"
    }
   ],
   "source": [
    "np.random.uniform(0, 1, size=5)  # Generates 5 random numbers between 0 and 1"
   ]
  },
  {
   "cell_type": "code",
   "execution_count": 18,
   "metadata": {},
   "outputs": [
    {
     "data": {
      "text/plain": [
       "array([-0.03063629,  0.3834521 , -1.07774296,  1.70457057,  0.51459475])"
      ]
     },
     "execution_count": 18,
     "metadata": {},
     "output_type": "execute_result"
    }
   ],
   "source": [
    "# Generates random numbers from a normal (Gaussian) distribution \n",
    "# with specified mean and standard deviation.\n",
    "np.random.normal(loc=0, scale=1, size=5)  # Generates 5 random numbers with mean=0 and std=1"
   ]
  },
  {
   "cell_type": "markdown",
   "metadata": {},
   "source": [
    "## Random Permutations and Shuffling"
   ]
  },
  {
   "cell_type": "code",
   "execution_count": 20,
   "metadata": {},
   "outputs": [
    {
     "data": {
      "text/plain": [
       "array([2, 3, 1, 4, 5])"
      ]
     },
     "execution_count": 20,
     "metadata": {},
     "output_type": "execute_result"
    }
   ],
   "source": [
    "arr = np.array([1, 2, 3, 4, 5])\n",
    "np.random.shuffle(arr)  # Shuffles the array elements\n",
    "arr"
   ]
  },
  {
   "cell_type": "code",
   "execution_count": 27,
   "metadata": {},
   "outputs": [
    {
     "data": {
      "text/plain": [
       "array([1, 3, 2, 0, 4])"
      ]
     },
     "execution_count": 27,
     "metadata": {},
     "output_type": "execute_result"
    }
   ],
   "source": [
    "np.random.permutation(5)  # Returns a permuted sequence of numbers from 0 to 4"
   ]
  },
  {
   "cell_type": "markdown",
   "metadata": {},
   "source": [
    "### Seed for Responsibility"
   ]
  },
  {
   "cell_type": "code",
   "execution_count": null,
   "metadata": {},
   "outputs": [],
   "source": [
    "# seed(): Sets the seed for the random number generator,\n",
    "#  ensuring reproducibility of results.\n",
    "np.random.seed(42)  # Sets the random seed to 42"
   ]
  },
  {
   "cell_type": "code",
   "execution_count": null,
   "metadata": {},
   "outputs": [
    {
     "name": "stdout",
     "output_type": "stream",
     "text": [
      "Random Floats: [0.37454012 0.95071431 0.73199394 0.59865848 0.15601864]\n",
      "Random Integers: [12 16 17 14 13]\n",
      "Random Normal Distribution: [ 0.39257975 -0.92918467  0.07983181 -0.1595165   0.02222183]\n",
      "Shuffled Array: [1 5 3 4 2]\n",
      "Random Choice: [3 4 4]\n"
     ]
    }
   ],
   "source": [
    "import numpy as np\n",
    "\n",
    "# Setting seed for reproducibility\n",
    "np.random.seed(42)\n",
    "\n",
    "# Generating random numbers\n",
    "random_floats = np.random.rand(5)\n",
    "random_ints = np.random.randint(10, 20, size=5)\n",
    "random_normal = np.random.normal(0, 1, size=5)\n",
    "\n",
    "# Shuffling an array\n",
    "arr = np.array([1, 2, 3, 4, 5])\n",
    "np.random.shuffle(arr)\n",
    "\n",
    "# Random choice from an array\n",
    "random_choice = np.random.choice(arr, size=3)\n",
    "\n",
    "print(\"Random Floats:\", random_floats)\n",
    "print(\"Random Integers:\", random_ints)\n",
    "print(\"Random Normal Distribution:\", random_normal)\n",
    "print(\"Shuffled Array:\", arr)\n",
    "print(\"Random Choice:\", random_choice)"
   ]
  },
  {
   "cell_type": "code",
   "execution_count": null,
   "metadata": {},
   "outputs": [
    {
     "name": "stdout",
     "output_type": "stream",
     "text": [
      "Random Numbers: [0.37454012 0.95071431 0.73199394 0.59865848 0.15601864]\n",
      "Same Random Numbers: [0.37454012 0.95071431 0.73199394 0.59865848 0.15601864]\n"
     ]
    }
   ],
   "source": [
    "import numpy as np\n",
    "\n",
    "# Setting the seed to 42\n",
    "np.random.seed(42)\n",
    "\n",
    "# Generating random numbers\n",
    "random_numbers = np.random.rand(5)\n",
    "print(\"Random Numbers:\", random_numbers)\n",
    "\n",
    "# If we set the seed to 42 again and generate random numbers, we get the same sequence\n",
    "np.random.seed(42)\n",
    "same_random_numbers = np.random.rand(5)\n",
    "print(\"Same Random Numbers:\", same_random_numbers)"
   ]
  }
 ],
 "metadata": {
  "kernelspec": {
   "display_name": "ML",
   "language": "python",
   "name": "ml"
  },
  "language_info": {
   "codemirror_mode": {
    "name": "ipython",
    "version": 3
   },
   "file_extension": ".py",
   "mimetype": "text/x-python",
   "name": "python",
   "nbconvert_exporter": "python",
   "pygments_lexer": "ipython3",
   "version": "3.10.0"
  }
 },
 "nbformat": 4,
 "nbformat_minor": 2
}
