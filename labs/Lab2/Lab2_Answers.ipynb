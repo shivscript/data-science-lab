{
 "cells": [
  {
   "cell_type": "markdown",
   "id": "9d55f252",
   "metadata": {},
   "source": [
    "# Data Analysis Practice Questions (Personalized by Student Name)"
   ]
  },
  {
   "cell_type": "markdown",
   "id": "e07c07f9",
   "metadata": {},
   "source": [
    "## Question 1"
   ]
  },
  {
   "cell_type": "markdown",
   "id": "2757c29d",
   "metadata": {},
   "source": [
    "\n",
    "Create a NumPy array with the values [10, 20, 30, 40, 50]. Add your name as a string (e.g., \"John\") at the end of the array and print the resulting array.\n"
   ]
  },
  {
   "cell_type": "code",
   "execution_count": 1,
   "id": "a3cf9a86",
   "metadata": {},
   "outputs": [
    {
     "name": "stdout",
     "output_type": "stream",
     "text": [
      "Array with name: [10 20 30 40 50 'Shiv']\n"
     ]
    }
   ],
   "source": [
    "\n",
    "import numpy as np\n",
    "\n",
    "# Create the array\n",
    "array = np.array([10, 20, 30, 40, 50, \"Shiv\"], dtype=object)\n",
    "print(\"Array with name:\", array)\n"
   ]
  },
  {
   "cell_type": "markdown",
   "id": "9e271afe",
   "metadata": {},
   "source": [
    "## Question 2"
   ]
  },
  {
   "cell_type": "markdown",
   "id": "78897b5a",
   "metadata": {},
   "source": [
    "\n",
    "Create a Pandas DataFrame with columns \"Name\", \"Age\", and \"Class\". Include your name, your age, and a random class assignment (e.g., \"A\", \"B\", or \"C\") as the first row. Print the DataFrame.\n"
   ]
  },
  {
   "cell_type": "code",
   "execution_count": 2,
   "id": "eb9f1e42",
   "metadata": {},
   "outputs": [
    {
     "name": "stdout",
     "output_type": "stream",
     "text": [
      "   Name  Age Class\n",
      "0  Shiv   26     A\n"
     ]
    }
   ],
   "source": [
    "\n",
    "import pandas as pd\n",
    "\n",
    "# Create the DataFrame\n",
    "data = {\n",
    "    \"Name\": [\"Shiv\"],\n",
    "    \"Age\": [26],\n",
    "    \"Class\": [\"A\"]\n",
    "}\n",
    "df = pd.DataFrame(data)\n",
    "print(df)\n"
   ]
  },
  {
   "cell_type": "markdown",
   "id": "8c0d7c28",
   "metadata": {},
   "source": [
    "## Question 3"
   ]
  },
  {
   "cell_type": "markdown",
   "id": "75c6fc1c",
   "metadata": {},
   "source": [
    "\n",
    "Create a line plot using Matplotlib where the x-axis represents the letters of your name (e.g., ['J', 'O', 'H', 'N']) and the y-axis represents the number of times each letter appears in your name.\n"
   ]
  },
  {
   "cell_type": "code",
   "execution_count": 3,
   "id": "14ea2e57",
   "metadata": {},
   "outputs": [
    {
     "data": {
      "image/png": "[encoded data removed]",
      "text/plain": [
       "<Figure size 640x480 with 1 Axes>"
      ]
     },
     "metadata": {},
     "output_type": "display_data"
    }
   ],
   "source": [
    "\n",
    "import matplotlib.pyplot as plt\n",
    "from collections import Counter\n",
    "\n",
    "# Letters in the name\n",
    "name = \"Shiv\"\n",
    "letter_counts = Counter(name)\n",
    "x = list(letter_counts.keys())\n",
    "y = list(letter_counts.values())\n",
    "\n",
    "# Plot the line chart\n",
    "plt.plot(x, y, marker='o')\n",
    "plt.title(\"Frequency of Letters in Name\")\n",
    "plt.xlabel(\"Letters\")\n",
    "plt.ylabel(\"Frequency\")\n",
    "plt.show()\n"
   ]
  },
  {
   "cell_type": "markdown",
   "id": "8f4d629e",
   "metadata": {},
   "source": [
    "## Question 4"
   ]
  },
  {
   "cell_type": "markdown",
   "id": "90f354a3",
   "metadata": {},
   "source": [
    "\n",
    "Generate a NumPy array of 5 random numbers. Rename the array variable to include your name as a suffix (e.g., `random_numbers_John`). Find the sum of the array elements.\n"
   ]
  },
  {
   "cell_type": "code",
   "execution_count": 4,
   "id": "3373bea9",
   "metadata": {},
   "outputs": [
    {
     "name": "stdout",
     "output_type": "stream",
     "text": [
      "Random numbers: [28 87 33 26 95]\n",
      "Sum of elements: 269\n"
     ]
    }
   ],
   "source": [
    "\n",
    "# Generate random numbers\n",
    "random_numbers_Shiv = np.random.randint(1, 100, 5)\n",
    "print(\"Random numbers:\", random_numbers_Shiv)\n",
    "print(\"Sum of elements:\", np.sum(random_numbers_Shiv))\n"
   ]
  },
  {
   "cell_type": "markdown",
   "id": "aa6c7e89",
   "metadata": {},
   "source": [
    "## Question 5"
   ]
  },
  {
   "cell_type": "markdown",
   "id": "586eed3c",
   "metadata": {},
   "source": [
    "\n",
    "Create a DataFrame with columns \"Product\", \"Price\", and \"Seller\". Add at least three products and prices. For the \"Seller\" column, include your name for each row. Display only the rows where the price is greater than 50.\n"
   ]
  },
  {
   "cell_type": "code",
   "execution_count": 5,
   "id": "ad29af8b",
   "metadata": {},
   "outputs": [
    {
     "name": "stdout",
     "output_type": "stream",
     "text": [
      "Filtered DataFrame (Price > 50):\n",
      "     Product  Price Seller\n",
      "1  Product B     75   Shiv\n",
      "2  Product C     60   Shiv\n"
     ]
    }
   ],
   "source": [
    "\n",
    "# Create product data\n",
    "product_data = {\n",
    "    \"Product\": [\"Product A\", \"Product B\", \"Product C\"],\n",
    "    \"Price\": [45, 75, 60],\n",
    "    \"Seller\": [\"Shiv\", \"Shiv\", \"Shiv\"]\n",
    "}\n",
    "df_products = pd.DataFrame(product_data)\n",
    "print(\"Filtered DataFrame (Price > 50):\")\n",
    "print(df_products[df_products[\"Price\"] > 50])\n"
   ]
  },
  {
   "cell_type": "markdown",
   "id": "34f7afe9",
   "metadata": {},
   "source": [
    "## Question 6"
   ]
  },
  {
   "cell_type": "markdown",
   "id": "03a3d2e5",
   "metadata": {},
   "source": [
    "\n",
    "Create a bar chart showing sales data for 5 products. Label the title of the chart with your name (e.g., \"John's Sales Data\").\n"
   ]
  },
  {
   "cell_type": "code",
   "execution_count": 6,
   "id": "11ceeab8",
   "metadata": {},
   "outputs": [
    {
     "data": {
      "image/png": "[encoded data removed]",
      "text/plain": [
       "<Figure size 640x480 with 1 Axes>"
      ]
     },
     "metadata": {},
     "output_type": "display_data"
    }
   ],
   "source": [
    "\n",
    "# Sales data\n",
    "products = [\"Product A\", \"Product B\", \"Product C\", \"Product D\", \"Product E\"]\n",
    "sales = [100, 150, 120, 80, 200]\n",
    "\n",
    "# Plot the bar chart\n",
    "plt.bar(products, sales)\n",
    "plt.title(\"Shiv's Sales Data\")\n",
    "plt.xlabel(\"Products\")\n",
    "plt.ylabel(\"Sales\")\n",
    "plt.show()\n"
   ]
  },
  {
   "cell_type": "markdown",
   "id": "9bfc3767",
   "metadata": {},
   "source": [
    "## Question 7"
   ]
  },
  {
   "cell_type": "markdown",
   "id": "e96b5422",
   "metadata": {},
   "source": [
    "\n",
    "Generate a histogram with 50 random numbers using Seaborn. Use your name as part of the figure's title (e.g., \"Distribution of Random Numbers by John\").\n"
   ]
  },
  {
   "cell_type": "code",
   "execution_count": 1,
   "id": "684bd97e",
   "metadata": {},
   "outputs": [
    {
     "ename": "NameError",
     "evalue": "name 'np' is not defined",
     "output_type": "error",
     "traceback": [
      "\u001b[1;31m---------------------------------------------------------------------------\u001b[0m",
      "\u001b[1;31mNameError\u001b[0m                                 Traceback (most recent call last)",
      "Cell \u001b[1;32mIn[1], line 4\u001b[0m\n\u001b[0;32m      1\u001b[0m \u001b[38;5;28;01mimport\u001b[39;00m \u001b[38;5;21;01mseaborn\u001b[39;00m \u001b[38;5;28;01mas\u001b[39;00m \u001b[38;5;21;01msns\u001b[39;00m\n\u001b[0;32m      3\u001b[0m \u001b[38;5;66;03m# Random data\u001b[39;00m\n\u001b[1;32m----> 4\u001b[0m random_data \u001b[38;5;241m=\u001b[39m \u001b[43mnp\u001b[49m\u001b[38;5;241m.\u001b[39mrandom\u001b[38;5;241m.\u001b[39mrand(\u001b[38;5;241m50\u001b[39m)\n\u001b[0;32m      6\u001b[0m \u001b[38;5;66;03m# Plot the histogram\u001b[39;00m\n\u001b[0;32m      7\u001b[0m sns\u001b[38;5;241m.\u001b[39mhistplot(random_data, kde\u001b[38;5;241m=\u001b[39m\u001b[38;5;28;01mTrue\u001b[39;00m)\n",
      "\u001b[1;31mNameError\u001b[0m: name 'np' is not defined"
     ]
    }
   ],
   "source": [
    "\n",
    "import seaborn as sns\n",
    "\n",
    "# Random data\n",
    "random_data = np.random.rand(50)\n",
    "\n",
    "# Plot the histogram\n",
    "sns.histplot(random_data, kde=True)\n",
    "plt.title(\"Distribution of Random Numbers by Shiv\")\n",
    "plt.show()\n"
   ]
  },
  {
   "cell_type": "markdown",
   "id": "97448475",
   "metadata": {},
   "source": [
    "## Question 8"
   ]
  },
  {
   "cell_type": "markdown",
   "id": "70c40350",
   "metadata": {},
   "source": [
    "\n",
    "Create a 3x3 NumPy matrix with random integers between 1 and 10. Name the matrix variable as `matrix_<YourName>` (e.g., `matrix_John`). Calculate the sum of all elements in the matrix.\n"
   ]
  },
  {
   "cell_type": "code",
   "execution_count": 8,
   "id": "5bd6677f",
   "metadata": {},
   "outputs": [
    {
     "name": "stdout",
     "output_type": "stream",
     "text": [
      "Matrix:\n",
      "[[4 9 8]\n",
      " [6 1 2]\n",
      " [6 4 1]]\n",
      "Sum of all elements: 41\n"
     ]
    }
   ],
   "source": [
    "\n",
    "# Create a 3x3 random matrix\n",
    "matrix_Shiv = np.random.randint(1, 10, (3, 3))\n",
    "print(\"Matrix:\")\n",
    "print(matrix_Shiv)\n",
    "print(\"Sum of all elements:\", np.sum(matrix_Shiv))\n"
   ]
  },
  {
   "cell_type": "markdown",
   "id": "d0e30c4c",
   "metadata": {},
   "source": [
    "## Question 9"
   ]
  },
  {
   "cell_type": "markdown",
   "id": "24f39fc8",
   "metadata": {},
   "source": [
    "\n",
    "Load a CSV file into a Pandas DataFrame. Add a column labeled \"Reviewer\" and fill it with your name for all rows. Display the first 5 rows of the modified DataFrame.\n"
   ]
  },
  {
   "cell_type": "code",
   "execution_count": 9,
   "id": "a50f9cea",
   "metadata": {},
   "outputs": [
    {
     "name": "stdout",
     "output_type": "stream",
     "text": [
      "      Name  Age  Salary Reviewer\n",
      "0    Alice   25   50000     Shiv\n",
      "1      Bob   30   60000     Shiv\n",
      "2  Charlie   35   70000     Shiv\n"
     ]
    }
   ],
   "source": [
    "\n",
    "# Assuming a CSV file 'data.csv' exists with relevant data\n",
    "# For demonstration, we'll create a sample DataFrame\n",
    "sample_data = {\n",
    "    \"Name\": [\"Alice\", \"Bob\", \"Charlie\"],\n",
    "    \"Age\": [25, 30, 35],\n",
    "    \"Salary\": [50000, 60000, 70000]\n",
    "}\n",
    "df = pd.DataFrame(sample_data)\n",
    "df[\"Reviewer\"] = \"Shiv\"\n",
    "print(df.head())\n"
   ]
  },
  {
   "cell_type": "markdown",
   "id": "cf280b53",
   "metadata": {},
   "source": [
    "## Question 10"
   ]
  },
  {
   "cell_type": "markdown",
   "id": "62378d2f",
   "metadata": {},
   "source": [
    "\n",
    "Create a scatter plot with a regression line using Seaborn. Use random `x` values and calculate `y` values using the formula `y = 2x + noise`. Title the chart with your name (e.g., \"John's Scatter Plot with Regression Line\").\n"
   ]
  },
  {
   "cell_type": "code",
   "execution_count": 10,
   "id": "95c04599",
   "metadata": {},
   "outputs": [
    {
     "data": {
      "image/png": "[encoded data removed]",
      "text/plain": [
       "<Figure size 640x480 with 1 Axes>"
      ]
     },
     "metadata": {},
     "output_type": "display_data"
    }
   ],
   "source": [
    "\n",
    "# Generate random x values and calculate y with noise\n",
    "x = np.random.rand(10) * 10\n",
    "y = 2 * x + np.random.randn(10)\n",
    "\n",
    "# Plot the scatter plot with regression line\n",
    "sns.regplot(x=x, y=y)\n",
    "plt.title(\"John's Scatter Plot with Regression Line\")\n",
    "plt.xlabel(\"X values\")\n",
    "plt.ylabel(\"Y values\")\n",
    "plt.show()\n"
   ]
  }
 ],
 "metadata": {
  "kernelspec": {
   "display_name": "Python 3 (ipykernel)",
   "language": "python",
   "name": "python3"
  },
  "language_info": {
   "codemirror_mode": {
    "name": "ipython",
    "version": 3
   },
   "file_extension": ".py",
   "mimetype": "text/x-python",
   "name": "python",
   "nbconvert_exporter": "python",
   "pygments_lexer": "ipython3",
   "version": "3.11.0rc2"
  }
 },
 "nbformat": 4,
 "nbformat_minor": 5
}
